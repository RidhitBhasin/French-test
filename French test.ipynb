{
 "cells": [
  {
   "cell_type": "code",
   "execution_count": 20,
   "metadata": {},
   "outputs": [
    {
     "name": "stdout",
     "output_type": "stream",
     "text": [
      "Enter the list size 3\n",
      "\n",
      "\n",
      "Enter French word at index 0\n",
      "chien\n",
      "Enter Correct English word at index 0\n",
      "cat\n",
      "Enter French word at index 1\n",
      "hien\n",
      "Enter Correct English word at index 1\n",
      "dog\n",
      "Enter French word at index 2\n",
      "ji\n",
      "Enter Correct English word at index 2\n",
      "fish\n",
      "3\n",
      "What is English word for  chien  ?\n",
      "cat\n",
      "What is English word for  hien  ?\n",
      "dog\n",
      "What is English word for  ji  ?\n",
      "bh\n",
      "What is English word for  ji  ?\n",
      "fis\n",
      "What is English word for  ji  ?\n",
      "fish\n"
     ]
    }
   ],
   "source": [
    "#if you want to enter list from user\n",
    "list_of_french_word = []\n",
    "list_of_correct_english_translation = []\n",
    "\n",
    "n = int(input(\"Enter the list size \"))\n",
    "\n",
    "print(\"\\n\")\n",
    "for i in range(0, n):\n",
    "    print(\"Enter French word at index\", i, )\n",
    "    item = input()\n",
    "    list_of_french_word.append(item)\n",
    "    print(\"Enter Correct English word at index\", i, )\n",
    "    word = input()\n",
    "    list_of_correct_english_translation.append(word)\n",
    "    \n",
    "# for Test input\n",
    "#list_of_french_word = [\"Chat\",\"Chien\",\"Poisson\"]\n",
    "#list_of_correct_english_translation = [\"Cat\", \"Dog\", \"Fish\"]\n",
    "\n",
    "\n",
    "def guess_words_from_french(list_of_french_words, list_of_correct_english_translations):\n",
    "    x= len(list_of_french_words)\n",
    "    print(x)\n",
    "    i=0\n",
    "    k=0\n",
    "    while i< x :\n",
    "        listf =list_of_french_words\n",
    "        liste = list_of_correct_english_translations\n",
    "        print(\"What is English word for \",listf[k], \" ?\")\n",
    "        y= input()\n",
    "        if(y == liste [k]):\n",
    "            listf.pop(k)\n",
    "            liste.pop(k)\n",
    "            i=i+1\n",
    "            \n",
    "        else:\n",
    "            listf.append(listf[k])\n",
    "            listf.pop(k)\n",
    "            liste.append(liste[k])\n",
    "            liste.pop(k)\n",
    "        \n",
    "        \n",
    "guess_words_from_french(list_of_french_word,list_of_correct_english_translation)\n",
    "\n",
    "\n",
    "\n",
    "\n",
    "\n"
   ]
  },
  {
   "cell_type": "code",
   "execution_count": null,
   "metadata": {},
   "outputs": [],
   "source": []
  },
  {
   "cell_type": "code",
   "execution_count": null,
   "metadata": {},
   "outputs": [],
   "source": []
  }
 ],
 "metadata": {
  "kernelspec": {
   "display_name": "Python 3",
   "language": "python",
   "name": "python3"
  },
  "language_info": {
   "codemirror_mode": {
    "name": "ipython",
    "version": 3
   },
   "file_extension": ".py",
   "mimetype": "text/x-python",
   "name": "python",
   "nbconvert_exporter": "python",
   "pygments_lexer": "ipython3",
   "version": "3.8.3"
  }
 },
 "nbformat": 4,
 "nbformat_minor": 4
}
